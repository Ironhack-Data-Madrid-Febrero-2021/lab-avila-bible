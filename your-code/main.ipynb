{
 "cells": [
  {
   "cell_type": "markdown",
   "metadata": {},
   "source": [
    "# Lab | Avila Bible "
   ]
  },
  {
   "cell_type": "markdown",
   "metadata": {},
   "source": [
    "In this lab, we will explore the [**Avila Bible dataset**](https://archive.ics.uci.edu/ml/datasets/Avila) which has been extracted from 800 images of the 'Avila Bible', an XII century giant Latin copy of the Bible. The prediction task consists in associating each pattern to a copyist. You will use supervised learning algorithms to figure out what feature patterns each copyist are likely to have and use our model to predict those copyist."
   ]
  },
  {
   "cell_type": "markdown",
   "metadata": {},
   "source": [
    "-----------------------------------------------------------------------------------------------------------------"
   ]
  },
  {
   "cell_type": "markdown",
   "metadata": {},
   "source": [
    "## Before your start:\n",
    "    - Comment as much as you can and use the APIla-bible in the README.md,\n",
    "    - Happy learning!"
   ]
  },
  {
   "cell_type": "code",
   "execution_count": 1,
   "metadata": {},
   "outputs": [],
   "source": [
    "# Import your libraries\n",
    "import pandas as pd\n",
    "import requests\n",
    "import seaborn as sns"
   ]
  },
  {
   "cell_type": "markdown",
   "metadata": {},
   "source": [
    "The Avila data set has been extracted from 800 images of the the **Avila Bible**, a giant Latin copy of the whole Bible produced during the XII century between Italy and Spain. The palaeographic analysis of the  manuscript has  individuated the presence of 8 copyists. The pages written by each copyist are not equally numerous. \n",
    "Each pattern contains 10 features and corresponds to a group of 4 consecutive rows."
   ]
  },
  {
   "cell_type": "markdown",
   "metadata": {},
   "source": [
    "# What am I expected to do?"
   ]
  },
  {
   "cell_type": "markdown",
   "metadata": {},
   "source": [
    "Well, your prediction task consists in associating each pattern to one of the 8 monks we will be evaluating (labeled as:  Marcus, Clarius, Philippus, Coronavirucus, Mongucus, Paithonius, Ubuntius, Esequlius). For that aim, you should: \n",
    "- Train a minimum of 4 different models\n",
    "- Must contain a summary of the machine learning tools and algorithms\n",
    "- and the results or the score obtained with each of them\n",
    "\n",
    "You won't get much more instructions from now on. Remember to comment your code as much as you can. Keep the requirements in mind and have fun! "
   ]
  },
  {
   "cell_type": "markdown",
   "metadata": {},
   "source": [
    "## Dataset"
   ]
  },
  {
   "cell_type": "code",
   "execution_count": 3,
   "metadata": {},
   "outputs": [],
   "source": [
    "data = pd.read_csv('../data/training_dataset.csv', index_col=0)"
   ]
  },
  {
   "cell_type": "code",
   "execution_count": 4,
   "metadata": {},
   "outputs": [
    {
     "data": {
      "text/html": [
       "<div>\n",
       "<style scoped>\n",
       "    .dataframe tbody tr th:only-of-type {\n",
       "        vertical-align: middle;\n",
       "    }\n",
       "\n",
       "    .dataframe tbody tr th {\n",
       "        vertical-align: top;\n",
       "    }\n",
       "\n",
       "    .dataframe thead th {\n",
       "        text-align: right;\n",
       "    }\n",
       "</style>\n",
       "<table border=\"1\" class=\"dataframe\">\n",
       "  <thead>\n",
       "    <tr style=\"text-align: right;\">\n",
       "      <th></th>\n",
       "      <th>0</th>\n",
       "      <th>1</th>\n",
       "      <th>2</th>\n",
       "      <th>3</th>\n",
       "      <th>4</th>\n",
       "      <th>5</th>\n",
       "      <th>6</th>\n",
       "      <th>7</th>\n",
       "      <th>8</th>\n",
       "      <th>9</th>\n",
       "      <th>10</th>\n",
       "    </tr>\n",
       "  </thead>\n",
       "  <tbody>\n",
       "    <tr>\n",
       "      <th>0</th>\n",
       "      <td>0.241386</td>\n",
       "      <td>0.109171</td>\n",
       "      <td>-0.127126</td>\n",
       "      <td>0.380626</td>\n",
       "      <td>0.172340</td>\n",
       "      <td>0.314889</td>\n",
       "      <td>0.484429</td>\n",
       "      <td>0.316412</td>\n",
       "      <td>0.188810</td>\n",
       "      <td>0.134922</td>\n",
       "      <td>Marcus</td>\n",
       "    </tr>\n",
       "    <tr>\n",
       "      <th>1</th>\n",
       "      <td>0.303106</td>\n",
       "      <td>0.352558</td>\n",
       "      <td>0.082701</td>\n",
       "      <td>0.703981</td>\n",
       "      <td>0.261718</td>\n",
       "      <td>-0.391033</td>\n",
       "      <td>0.408929</td>\n",
       "      <td>1.045014</td>\n",
       "      <td>0.282354</td>\n",
       "      <td>-0.448209</td>\n",
       "      <td>Clarius</td>\n",
       "    </tr>\n",
       "    <tr>\n",
       "      <th>2</th>\n",
       "      <td>-0.116585</td>\n",
       "      <td>0.281897</td>\n",
       "      <td>0.175168</td>\n",
       "      <td>-0.152490</td>\n",
       "      <td>0.261718</td>\n",
       "      <td>-0.889332</td>\n",
       "      <td>0.371178</td>\n",
       "      <td>-0.024328</td>\n",
       "      <td>0.905984</td>\n",
       "      <td>-0.877830</td>\n",
       "      <td>Philippus</td>\n",
       "    </tr>\n",
       "    <tr>\n",
       "      <th>3</th>\n",
       "      <td>-0.326430</td>\n",
       "      <td>-0.652394</td>\n",
       "      <td>0.384996</td>\n",
       "      <td>-1.694222</td>\n",
       "      <td>-0.185173</td>\n",
       "      <td>-1.138481</td>\n",
       "      <td>-0.232828</td>\n",
       "      <td>-1.747116</td>\n",
       "      <td>-1.183175</td>\n",
       "      <td>-0.807380</td>\n",
       "      <td>Philippus</td>\n",
       "    </tr>\n",
       "    <tr>\n",
       "      <th>4</th>\n",
       "      <td>-0.437525</td>\n",
       "      <td>-0.471816</td>\n",
       "      <td>0.463236</td>\n",
       "      <td>-0.545248</td>\n",
       "      <td>0.261718</td>\n",
       "      <td>-0.972381</td>\n",
       "      <td>0.824183</td>\n",
       "      <td>-3.108388</td>\n",
       "      <td>-2.991700</td>\n",
       "      <td>-1.141030</td>\n",
       "      <td>Philippus</td>\n",
       "    </tr>\n",
       "    <tr>\n",
       "      <th>5</th>\n",
       "      <td>-0.412837</td>\n",
       "      <td>-0.346197</td>\n",
       "      <td>0.601936</td>\n",
       "      <td>2.211191</td>\n",
       "      <td>0.440474</td>\n",
       "      <td>0.356414</td>\n",
       "      <td>-1.138838</td>\n",
       "      <td>1.623671</td>\n",
       "      <td>2.371513</td>\n",
       "      <td>1.346221</td>\n",
       "      <td>Mongucus</td>\n",
       "    </tr>\n",
       "    <tr>\n",
       "      <th>6</th>\n",
       "      <td>0.056229</td>\n",
       "      <td>0.187683</td>\n",
       "      <td>-0.031104</td>\n",
       "      <td>-0.958476</td>\n",
       "      <td>0.261718</td>\n",
       "      <td>-0.598658</td>\n",
       "      <td>0.861934</td>\n",
       "      <td>-0.885246</td>\n",
       "      <td>-0.528364</td>\n",
       "      <td>-0.848946</td>\n",
       "      <td>Clarius</td>\n",
       "    </tr>\n",
       "    <tr>\n",
       "      <th>7</th>\n",
       "      <td>-0.128929</td>\n",
       "      <td>-0.032150</td>\n",
       "      <td>0.068476</td>\n",
       "      <td>-0.151655</td>\n",
       "      <td>-0.989576</td>\n",
       "      <td>-0.806282</td>\n",
       "      <td>0.295677</td>\n",
       "      <td>0.259758</td>\n",
       "      <td>0.251173</td>\n",
       "      <td>-0.767984</td>\n",
       "      <td>Clarius</td>\n",
       "    </tr>\n",
       "    <tr>\n",
       "      <th>8</th>\n",
       "      <td>0.130292</td>\n",
       "      <td>-0.275537</td>\n",
       "      <td>0.274747</td>\n",
       "      <td>-0.574878</td>\n",
       "      <td>0.261718</td>\n",
       "      <td>2.889429</td>\n",
       "      <td>0.635431</td>\n",
       "      <td>-1.180749</td>\n",
       "      <td>-0.840179</td>\n",
       "      <td>2.303929</td>\n",
       "      <td>Marcus</td>\n",
       "    </tr>\n",
       "    <tr>\n",
       "      <th>9</th>\n",
       "      <td>0.080916</td>\n",
       "      <td>0.438921</td>\n",
       "      <td>0.143160</td>\n",
       "      <td>-0.523288</td>\n",
       "      <td>0.261718</td>\n",
       "      <td>-0.598658</td>\n",
       "      <td>0.106925</td>\n",
       "      <td>-0.641641</td>\n",
       "      <td>0.188810</td>\n",
       "      <td>-0.491704</td>\n",
       "      <td>Ubuntius</td>\n",
       "    </tr>\n",
       "    <tr>\n",
       "      <th>10</th>\n",
       "      <td>-0.474557</td>\n",
       "      <td>0.446772</td>\n",
       "      <td>-3.210528</td>\n",
       "      <td>-0.716161</td>\n",
       "      <td>0.351096</td>\n",
       "      <td>2.723330</td>\n",
       "      <td>1.692443</td>\n",
       "      <td>-1.912981</td>\n",
       "      <td>-1.588534</td>\n",
       "      <td>1.500599</td>\n",
       "      <td>Marcus</td>\n",
       "    </tr>\n",
       "    <tr>\n",
       "      <th>11</th>\n",
       "      <td>0.241386</td>\n",
       "      <td>-0.157769</td>\n",
       "      <td>0.338762</td>\n",
       "      <td>-1.203923</td>\n",
       "      <td>0.261718</td>\n",
       "      <td>-0.058835</td>\n",
       "      <td>0.182426</td>\n",
       "      <td>1.066119</td>\n",
       "      <td>0.344717</td>\n",
       "      <td>-0.035550</td>\n",
       "      <td>Marcus</td>\n",
       "    </tr>\n",
       "    <tr>\n",
       "      <th>12</th>\n",
       "      <td>-0.042522</td>\n",
       "      <td>-0.299090</td>\n",
       "      <td>0.182281</td>\n",
       "      <td>1.151314</td>\n",
       "      <td>0.261718</td>\n",
       "      <td>2.100457</td>\n",
       "      <td>0.446679</td>\n",
       "      <td>-0.757551</td>\n",
       "      <td>-0.621908</td>\n",
       "      <td>1.734710</td>\n",
       "      <td>Marcus</td>\n",
       "    </tr>\n",
       "    <tr>\n",
       "      <th>13</th>\n",
       "      <td>0.117948</td>\n",
       "      <td>0.627349</td>\n",
       "      <td>0.075589</td>\n",
       "      <td>0.831628</td>\n",
       "      <td>0.261718</td>\n",
       "      <td>1.602159</td>\n",
       "      <td>2.409701</td>\n",
       "      <td>-0.742718</td>\n",
       "      <td>-0.497183</td>\n",
       "      <td>0.196511</td>\n",
       "      <td>Marcus</td>\n",
       "    </tr>\n",
       "    <tr>\n",
       "      <th>14</th>\n",
       "      <td>-0.042522</td>\n",
       "      <td>0.187683</td>\n",
       "      <td>0.224957</td>\n",
       "      <td>0.290963</td>\n",
       "      <td>0.261718</td>\n",
       "      <td>-0.017310</td>\n",
       "      <td>0.333428</td>\n",
       "      <td>0.030113</td>\n",
       "      <td>0.126447</td>\n",
       "      <td>-0.077694</td>\n",
       "      <td>Marcus</td>\n",
       "    </tr>\n",
       "    <tr>\n",
       "      <th>15</th>\n",
       "      <td>0.117948</td>\n",
       "      <td>-0.189174</td>\n",
       "      <td>0.029355</td>\n",
       "      <td>0.763359</td>\n",
       "      <td>0.887365</td>\n",
       "      <td>-1.304580</td>\n",
       "      <td>0.295677</td>\n",
       "      <td>1.811476</td>\n",
       "      <td>0.251173</td>\n",
       "      <td>-1.212661</td>\n",
       "      <td>Coronavirucus</td>\n",
       "    </tr>\n",
       "    <tr>\n",
       "      <th>16</th>\n",
       "      <td>0.377169</td>\n",
       "      <td>-0.079257</td>\n",
       "      <td>0.153829</td>\n",
       "      <td>-1.102952</td>\n",
       "      <td>0.261718</td>\n",
       "      <td>-0.266459</td>\n",
       "      <td>0.031425</td>\n",
       "      <td>1.179388</td>\n",
       "      <td>-0.060642</td>\n",
       "      <td>-0.139983</td>\n",
       "      <td>Marcus</td>\n",
       "    </tr>\n",
       "    <tr>\n",
       "      <th>17</th>\n",
       "      <td>-0.042522</td>\n",
       "      <td>-0.416858</td>\n",
       "      <td>0.569929</td>\n",
       "      <td>-2.224653</td>\n",
       "      <td>0.082961</td>\n",
       "      <td>3.346203</td>\n",
       "      <td>0.182426</td>\n",
       "      <td>-1.205406</td>\n",
       "      <td>-1.837986</td>\n",
       "      <td>3.057808</td>\n",
       "      <td>Esequlius</td>\n",
       "    </tr>\n",
       "    <tr>\n",
       "      <th>18</th>\n",
       "      <td>-0.091897</td>\n",
       "      <td>-0.118513</td>\n",
       "      <td>0.189393</td>\n",
       "      <td>1.280303</td>\n",
       "      <td>0.261718</td>\n",
       "      <td>0.564038</td>\n",
       "      <td>0.597681</td>\n",
       "      <td>0.536330</td>\n",
       "      <td>0.251173</td>\n",
       "      <td>0.297376</td>\n",
       "      <td>Marcus</td>\n",
       "    </tr>\n",
       "    <tr>\n",
       "      <th>19</th>\n",
       "      <td>0.105604</td>\n",
       "      <td>-0.149918</td>\n",
       "      <td>0.438342</td>\n",
       "      <td>0.934659</td>\n",
       "      <td>0.261718</td>\n",
       "      <td>0.065740</td>\n",
       "      <td>0.371178</td>\n",
       "      <td>-1.324733</td>\n",
       "      <td>-1.931530</td>\n",
       "      <td>-0.011066</td>\n",
       "      <td>Marcus</td>\n",
       "    </tr>\n",
       "  </tbody>\n",
       "</table>\n",
       "</div>"
      ],
      "text/plain": [
       "           0         1         2         3         4         5         6  \\\n",
       "0   0.241386  0.109171 -0.127126  0.380626  0.172340  0.314889  0.484429   \n",
       "1   0.303106  0.352558  0.082701  0.703981  0.261718 -0.391033  0.408929   \n",
       "2  -0.116585  0.281897  0.175168 -0.152490  0.261718 -0.889332  0.371178   \n",
       "3  -0.326430 -0.652394  0.384996 -1.694222 -0.185173 -1.138481 -0.232828   \n",
       "4  -0.437525 -0.471816  0.463236 -0.545248  0.261718 -0.972381  0.824183   \n",
       "5  -0.412837 -0.346197  0.601936  2.211191  0.440474  0.356414 -1.138838   \n",
       "6   0.056229  0.187683 -0.031104 -0.958476  0.261718 -0.598658  0.861934   \n",
       "7  -0.128929 -0.032150  0.068476 -0.151655 -0.989576 -0.806282  0.295677   \n",
       "8   0.130292 -0.275537  0.274747 -0.574878  0.261718  2.889429  0.635431   \n",
       "9   0.080916  0.438921  0.143160 -0.523288  0.261718 -0.598658  0.106925   \n",
       "10 -0.474557  0.446772 -3.210528 -0.716161  0.351096  2.723330  1.692443   \n",
       "11  0.241386 -0.157769  0.338762 -1.203923  0.261718 -0.058835  0.182426   \n",
       "12 -0.042522 -0.299090  0.182281  1.151314  0.261718  2.100457  0.446679   \n",
       "13  0.117948  0.627349  0.075589  0.831628  0.261718  1.602159  2.409701   \n",
       "14 -0.042522  0.187683  0.224957  0.290963  0.261718 -0.017310  0.333428   \n",
       "15  0.117948 -0.189174  0.029355  0.763359  0.887365 -1.304580  0.295677   \n",
       "16  0.377169 -0.079257  0.153829 -1.102952  0.261718 -0.266459  0.031425   \n",
       "17 -0.042522 -0.416858  0.569929 -2.224653  0.082961  3.346203  0.182426   \n",
       "18 -0.091897 -0.118513  0.189393  1.280303  0.261718  0.564038  0.597681   \n",
       "19  0.105604 -0.149918  0.438342  0.934659  0.261718  0.065740  0.371178   \n",
       "\n",
       "           7         8         9             10  \n",
       "0   0.316412  0.188810  0.134922         Marcus  \n",
       "1   1.045014  0.282354 -0.448209        Clarius  \n",
       "2  -0.024328  0.905984 -0.877830      Philippus  \n",
       "3  -1.747116 -1.183175 -0.807380      Philippus  \n",
       "4  -3.108388 -2.991700 -1.141030      Philippus  \n",
       "5   1.623671  2.371513  1.346221       Mongucus  \n",
       "6  -0.885246 -0.528364 -0.848946        Clarius  \n",
       "7   0.259758  0.251173 -0.767984        Clarius  \n",
       "8  -1.180749 -0.840179  2.303929         Marcus  \n",
       "9  -0.641641  0.188810 -0.491704       Ubuntius  \n",
       "10 -1.912981 -1.588534  1.500599         Marcus  \n",
       "11  1.066119  0.344717 -0.035550         Marcus  \n",
       "12 -0.757551 -0.621908  1.734710         Marcus  \n",
       "13 -0.742718 -0.497183  0.196511         Marcus  \n",
       "14  0.030113  0.126447 -0.077694         Marcus  \n",
       "15  1.811476  0.251173 -1.212661  Coronavirucus  \n",
       "16  1.179388 -0.060642 -0.139983         Marcus  \n",
       "17 -1.205406 -1.837986  3.057808      Esequlius  \n",
       "18  0.536330  0.251173  0.297376         Marcus  \n",
       "19 -1.324733 -1.931530 -0.011066         Marcus  "
      ]
     },
     "execution_count": 4,
     "metadata": {},
     "output_type": "execute_result"
    }
   ],
   "source": [
    "data.head(20)"
   ]
  },
  {
   "cell_type": "markdown",
   "metadata": {},
   "source": [
    "`Keep calm and code on!`"
   ]
  },
  {
   "cell_type": "markdown",
   "metadata": {},
   "source": [
    "## Explore Data"
   ]
  },
  {
   "cell_type": "raw",
   "metadata": {},
   "source": [
    "data.shape"
   ]
  },
  {
   "cell_type": "code",
   "execution_count": null,
   "metadata": {},
   "outputs": [],
   "source": [
    "# Your code"
   ]
  },
  {
   "cell_type": "markdown",
   "metadata": {},
   "source": [
    "# Challenge - train your models, make the best prediction"
   ]
  },
  {
   "cell_type": "markdown",
   "metadata": {},
   "source": [
    "### Label encoder \n",
    "Encode target labels with value between 0 and n_classes-1.\n",
    "https://scikit-learn.org/stable/modules/generated/sklearn.preprocessing.LabelEncoder.html"
   ]
  },
  {
   "cell_type": "code",
   "execution_count": 7,
   "metadata": {},
   "outputs": [],
   "source": [
    "from sklearn import preprocessing\n",
    "le = preprocessing.LabelEncoder()\n",
    "data[\"numeric\"] = le.fit_transform(data[\"10\"])"
   ]
  },
  {
   "cell_type": "code",
   "execution_count": 8,
   "metadata": {},
   "outputs": [
    {
     "data": {
      "text/html": [
       "<div>\n",
       "<style scoped>\n",
       "    .dataframe tbody tr th:only-of-type {\n",
       "        vertical-align: middle;\n",
       "    }\n",
       "\n",
       "    .dataframe tbody tr th {\n",
       "        vertical-align: top;\n",
       "    }\n",
       "\n",
       "    .dataframe thead th {\n",
       "        text-align: right;\n",
       "    }\n",
       "</style>\n",
       "<table border=\"1\" class=\"dataframe\">\n",
       "  <thead>\n",
       "    <tr style=\"text-align: right;\">\n",
       "      <th></th>\n",
       "      <th>0</th>\n",
       "      <th>1</th>\n",
       "      <th>2</th>\n",
       "      <th>3</th>\n",
       "      <th>4</th>\n",
       "      <th>5</th>\n",
       "      <th>6</th>\n",
       "      <th>7</th>\n",
       "      <th>8</th>\n",
       "      <th>9</th>\n",
       "      <th>10</th>\n",
       "      <th>numeric</th>\n",
       "    </tr>\n",
       "  </thead>\n",
       "  <tbody>\n",
       "    <tr>\n",
       "      <th>0</th>\n",
       "      <td>0.241386</td>\n",
       "      <td>0.109171</td>\n",
       "      <td>-0.127126</td>\n",
       "      <td>0.380626</td>\n",
       "      <td>0.172340</td>\n",
       "      <td>0.314889</td>\n",
       "      <td>0.484429</td>\n",
       "      <td>0.316412</td>\n",
       "      <td>0.188810</td>\n",
       "      <td>0.134922</td>\n",
       "      <td>Marcus</td>\n",
       "      <td>3</td>\n",
       "    </tr>\n",
       "    <tr>\n",
       "      <th>1</th>\n",
       "      <td>0.303106</td>\n",
       "      <td>0.352558</td>\n",
       "      <td>0.082701</td>\n",
       "      <td>0.703981</td>\n",
       "      <td>0.261718</td>\n",
       "      <td>-0.391033</td>\n",
       "      <td>0.408929</td>\n",
       "      <td>1.045014</td>\n",
       "      <td>0.282354</td>\n",
       "      <td>-0.448209</td>\n",
       "      <td>Clarius</td>\n",
       "      <td>0</td>\n",
       "    </tr>\n",
       "    <tr>\n",
       "      <th>2</th>\n",
       "      <td>-0.116585</td>\n",
       "      <td>0.281897</td>\n",
       "      <td>0.175168</td>\n",
       "      <td>-0.152490</td>\n",
       "      <td>0.261718</td>\n",
       "      <td>-0.889332</td>\n",
       "      <td>0.371178</td>\n",
       "      <td>-0.024328</td>\n",
       "      <td>0.905984</td>\n",
       "      <td>-0.877830</td>\n",
       "      <td>Philippus</td>\n",
       "      <td>6</td>\n",
       "    </tr>\n",
       "    <tr>\n",
       "      <th>3</th>\n",
       "      <td>-0.326430</td>\n",
       "      <td>-0.652394</td>\n",
       "      <td>0.384996</td>\n",
       "      <td>-1.694222</td>\n",
       "      <td>-0.185173</td>\n",
       "      <td>-1.138481</td>\n",
       "      <td>-0.232828</td>\n",
       "      <td>-1.747116</td>\n",
       "      <td>-1.183175</td>\n",
       "      <td>-0.807380</td>\n",
       "      <td>Philippus</td>\n",
       "      <td>6</td>\n",
       "    </tr>\n",
       "    <tr>\n",
       "      <th>4</th>\n",
       "      <td>-0.437525</td>\n",
       "      <td>-0.471816</td>\n",
       "      <td>0.463236</td>\n",
       "      <td>-0.545248</td>\n",
       "      <td>0.261718</td>\n",
       "      <td>-0.972381</td>\n",
       "      <td>0.824183</td>\n",
       "      <td>-3.108388</td>\n",
       "      <td>-2.991700</td>\n",
       "      <td>-1.141030</td>\n",
       "      <td>Philippus</td>\n",
       "      <td>6</td>\n",
       "    </tr>\n",
       "  </tbody>\n",
       "</table>\n",
       "</div>"
      ],
      "text/plain": [
       "          0         1         2         3         4         5         6  \\\n",
       "0  0.241386  0.109171 -0.127126  0.380626  0.172340  0.314889  0.484429   \n",
       "1  0.303106  0.352558  0.082701  0.703981  0.261718 -0.391033  0.408929   \n",
       "2 -0.116585  0.281897  0.175168 -0.152490  0.261718 -0.889332  0.371178   \n",
       "3 -0.326430 -0.652394  0.384996 -1.694222 -0.185173 -1.138481 -0.232828   \n",
       "4 -0.437525 -0.471816  0.463236 -0.545248  0.261718 -0.972381  0.824183   \n",
       "\n",
       "          7         8         9         10  numeric  \n",
       "0  0.316412  0.188810  0.134922     Marcus        3  \n",
       "1  1.045014  0.282354 -0.448209    Clarius        0  \n",
       "2 -0.024328  0.905984 -0.877830  Philippus        6  \n",
       "3 -1.747116 -1.183175 -0.807380  Philippus        6  \n",
       "4 -3.108388 -2.991700 -1.141030  Philippus        6  "
      ]
     },
     "execution_count": 8,
     "metadata": {},
     "output_type": "execute_result"
    }
   ],
   "source": [
    "data.head()"
   ]
  },
  {
   "cell_type": "code",
   "execution_count": 9,
   "metadata": {},
   "outputs": [],
   "source": [
    "columnas = [a for a in data.columns if a not in [\"10\",\"numeric\"]]\n",
    "X = data[columnas]\n",
    "y = data[\"numeric\"]"
   ]
  },
  {
   "cell_type": "markdown",
   "metadata": {},
   "source": [
    "### Train_Test Split\n",
    "https://scikit-learn.org/stable/modules/generated/sklearn.model_selection.train_test_split.html"
   ]
  },
  {
   "cell_type": "code",
   "execution_count": 37,
   "metadata": {},
   "outputs": [],
   "source": []
  },
  {
   "cell_type": "code",
   "execution_count": 38,
   "metadata": {},
   "outputs": [],
   "source": []
  },
  {
   "cell_type": "markdown",
   "metadata": {},
   "source": [
    "### Train One Model\n",
    "\n",
    "Classifier implementing the k-nearest neighbors vote. https://scikit-learn.org/stable/modules/generated/sklearn.neighbors.KNeighborsClassifier.html"
   ]
  },
  {
   "cell_type": "code",
   "execution_count": 39,
   "metadata": {},
   "outputs": [],
   "source": []
  },
  {
   "cell_type": "code",
   "execution_count": 40,
   "metadata": {},
   "outputs": [],
   "source": []
  },
  {
   "cell_type": "code",
   "execution_count": 41,
   "metadata": {},
   "outputs": [
    {
     "data": {
      "text/plain": [
       "array([5, 3, 3, ..., 6, 0, 0])"
      ]
     },
     "execution_count": 41,
     "metadata": {},
     "output_type": "execute_result"
    }
   ],
   "source": []
  },
  {
   "cell_type": "markdown",
   "metadata": {},
   "source": [
    "### Exploring metrics for multi-class classification algorithms\n",
    "https://scikit-learn.org/stable/modules/classes.html#module-sklearn.metrics"
   ]
  },
  {
   "cell_type": "markdown",
   "metadata": {},
   "source": [
    "- Accuracy\n",
    "- Precission\n",
    "- Recall\n",
    "- F1_score"
   ]
  },
  {
   "cell_type": "code",
   "execution_count": null,
   "metadata": {},
   "outputs": [],
   "source": [
    "# Your Code"
   ]
  },
  {
   "cell_type": "markdown",
   "metadata": {},
   "source": [
    "### Training several models and explores the metrics for each of them"
   ]
  },
  {
   "cell_type": "markdown",
   "metadata": {},
   "source": [
    "- DecisionTreeClassifier\n",
    "- SVC\n",
    "- RandomForestClassifier\n",
    "- AdaBoostClassifier\n",
    "- DecisionTreeClassifier"
   ]
  },
  {
   "cell_type": "code",
   "execution_count": 10,
   "metadata": {},
   "outputs": [],
   "source": [
    "# Your Code"
   ]
  },
  {
   "cell_type": "markdown",
   "metadata": {},
   "source": [
    "![hope-you-enjoy](https://imgs.xkcd.com/comics/machine_learning.png)"
   ]
  },
  {
   "cell_type": "code",
   "execution_count": null,
   "metadata": {},
   "outputs": [],
   "source": []
  },
  {
   "cell_type": "code",
   "execution_count": null,
   "metadata": {},
   "outputs": [],
   "source": []
  },
  {
   "cell_type": "code",
   "execution_count": null,
   "metadata": {},
   "outputs": [],
   "source": []
  },
  {
   "cell_type": "code",
   "execution_count": null,
   "metadata": {},
   "outputs": [],
   "source": []
  },
  {
   "cell_type": "code",
   "execution_count": null,
   "metadata": {},
   "outputs": [],
   "source": []
  },
  {
   "cell_type": "code",
   "execution_count": null,
   "metadata": {},
   "outputs": [],
   "source": []
  },
  {
   "cell_type": "code",
   "execution_count": null,
   "metadata": {},
   "outputs": [],
   "source": []
  },
  {
   "cell_type": "code",
   "execution_count": null,
   "metadata": {},
   "outputs": [],
   "source": []
  }
 ],
 "metadata": {
  "kernelspec": {
   "display_name": "ironhack",
   "language": "python",
   "name": "ironhack"
  },
  "language_info": {
   "codemirror_mode": {
    "name": "ipython",
    "version": 3
   },
   "file_extension": ".py",
   "mimetype": "text/x-python",
   "name": "python",
   "nbconvert_exporter": "python",
   "pygments_lexer": "ipython3",
   "version": "3.8.5"
  },
  "toc": {
   "base_numbering": 1,
   "nav_menu": {},
   "number_sections": true,
   "sideBar": true,
   "skip_h1_title": false,
   "title_cell": "Table of Contents",
   "title_sidebar": "Contents",
   "toc_cell": false,
   "toc_position": {},
   "toc_section_display": true,
   "toc_window_display": false
  },
  "varInspector": {
   "cols": {
    "lenName": 16,
    "lenType": 16,
    "lenVar": 40
   },
   "kernels_config": {
    "python": {
     "delete_cmd_postfix": "",
     "delete_cmd_prefix": "del ",
     "library": "var_list.py",
     "varRefreshCmd": "print(var_dic_list())"
    },
    "r": {
     "delete_cmd_postfix": ") ",
     "delete_cmd_prefix": "rm(",
     "library": "var_list.r",
     "varRefreshCmd": "cat(var_dic_list()) "
    }
   },
   "types_to_exclude": [
    "module",
    "function",
    "builtin_function_or_method",
    "instance",
    "_Feature"
   ],
   "window_display": false
  }
 },
 "nbformat": 4,
 "nbformat_minor": 2
}
